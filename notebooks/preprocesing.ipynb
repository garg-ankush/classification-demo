{
 "cells": [
  {
   "cell_type": "code",
   "execution_count": 15,
   "metadata": {},
   "outputs": [
    {
     "name": "stderr",
     "output_type": "stream",
     "text": [
      "Some weights of RobertaModel were not initialized from the model checkpoint at roberta-base and are newly initialized: ['roberta.pooler.dense.bias', 'roberta.pooler.dense.weight']\n",
      "You should probably TRAIN this model on a down-stream task to be able to use it for predictions and inference.\n"
     ]
    }
   ],
   "source": [
    "import pandas as pd\n",
    "import numpy as np\n",
    "from datasets import Dataset\n",
    "\n",
    "from sklearn.model_selection import train_test_split\n",
    "from sklearn.metrics import accuracy_score\n",
    "from sklearn.preprocessing import LabelEncoder\n",
    "from sklearn.pipeline import make_pipeline\n",
    "from sklearn.feature_extraction.text import TfidfVectorizer\n",
    "from sklearn.ensemble import RandomForestClassifier\n",
    "from transformers import AutoTokenizer, AutoModel\n",
    "import torch\n",
    "\n",
    "tokenizer = AutoTokenizer.from_pretrained('roberta-base')\n",
    "model = AutoModel.from_pretrained('roberta-base')\n",
    "\n",
    "import warnings\n",
    "warnings.filterwarnings('ignore')\n"
   ]
  },
  {
   "cell_type": "markdown",
   "metadata": {},
   "source": [
    "https://huggingface.co/datasets/FIG-Loneliness/FIG-Loneliness"
   ]
  },
  {
   "cell_type": "code",
   "execution_count": 16,
   "metadata": {},
   "outputs": [
    {
     "data": {
      "text/html": [
       "<div>\n",
       "<style scoped>\n",
       "    .dataframe tbody tr th:only-of-type {\n",
       "        vertical-align: middle;\n",
       "    }\n",
       "\n",
       "    .dataframe tbody tr th {\n",
       "        vertical-align: top;\n",
       "    }\n",
       "\n",
       "    .dataframe thead th {\n",
       "        text-align: right;\n",
       "    }\n",
       "</style>\n",
       "<table border=\"1\" class=\"dataframe\">\n",
       "  <thead>\n",
       "    <tr style=\"text-align: right;\">\n",
       "      <th></th>\n",
       "      <th>context_pri</th>\n",
       "      <th>idx</th>\n",
       "      <th>interaction</th>\n",
       "      <th>interpersonal_pri</th>\n",
       "      <th>lonely</th>\n",
       "      <th>temporal</th>\n",
       "      <th>text</th>\n",
       "      <th>unique_id</th>\n",
       "    </tr>\n",
       "  </thead>\n",
       "  <tbody>\n",
       "    <tr>\n",
       "      <th>0</th>\n",
       "      <td>[0, 0, 0, 0, 0]</td>\n",
       "      <td>5359</td>\n",
       "      <td>[0, 0, 0, 0, 0]</td>\n",
       "      <td>[0, 0, 0, 0, 0]</td>\n",
       "      <td>[1, 0]</td>\n",
       "      <td>[0, 0, 0, 0]</td>\n",
       "      <td>Should I transfer? Other than the fact that th...</td>\n",
       "      <td>85tbvc</td>\n",
       "    </tr>\n",
       "    <tr>\n",
       "      <th>1</th>\n",
       "      <td>[0, 0, 0, 0, 0]</td>\n",
       "      <td>3985</td>\n",
       "      <td>[0, 0, 0, 0, 0]</td>\n",
       "      <td>[0, 0, 0, 0, 0]</td>\n",
       "      <td>[1, 0]</td>\n",
       "      <td>[0, 0, 0, 0]</td>\n",
       "      <td>Summer Financial Aid Does anyone have any reco...</td>\n",
       "      <td>exptn4</td>\n",
       "    </tr>\n",
       "    <tr>\n",
       "      <th>2</th>\n",
       "      <td>[0, 0, 0, 3, 0]</td>\n",
       "      <td>2248</td>\n",
       "      <td>[2, 0, 0, 0, 1]</td>\n",
       "      <td>[3, 0, 0, 0, 0]</td>\n",
       "      <td>[0, 1]</td>\n",
       "      <td>[0, 0, 2, 1]</td>\n",
       "      <td>How do you forget a girl? If you saw my last p...</td>\n",
       "      <td>a3619d</td>\n",
       "    </tr>\n",
       "    <tr>\n",
       "      <th>3</th>\n",
       "      <td>[0, 0, 0, 0, 0]</td>\n",
       "      <td>2765</td>\n",
       "      <td>[0, 0, 0, 0, 0]</td>\n",
       "      <td>[0, 0, 0, 0, 0]</td>\n",
       "      <td>[1, 0]</td>\n",
       "      <td>[0, 0, 0, 0]</td>\n",
       "      <td>Financing College Hi guys. With my parents sho...</td>\n",
       "      <td>acmme5</td>\n",
       "    </tr>\n",
       "    <tr>\n",
       "      <th>4</th>\n",
       "      <td>[0, 0, 0, 0, 0]</td>\n",
       "      <td>3047</td>\n",
       "      <td>[0, 0, 0, 0, 0]</td>\n",
       "      <td>[0, 0, 0, 0, 0]</td>\n",
       "      <td>[1, 0]</td>\n",
       "      <td>[0, 0, 0, 0]</td>\n",
       "      <td>Dealing with taking a gap year you didn't inte...</td>\n",
       "      <td>hfiq0h</td>\n",
       "    </tr>\n",
       "  </tbody>\n",
       "</table>\n",
       "</div>"
      ],
      "text/plain": [
       "       context_pri   idx      interaction interpersonal_pri  lonely  \\\n",
       "0  [0, 0, 0, 0, 0]  5359  [0, 0, 0, 0, 0]   [0, 0, 0, 0, 0]  [1, 0]   \n",
       "1  [0, 0, 0, 0, 0]  3985  [0, 0, 0, 0, 0]   [0, 0, 0, 0, 0]  [1, 0]   \n",
       "2  [0, 0, 0, 3, 0]  2248  [2, 0, 0, 0, 1]   [3, 0, 0, 0, 0]  [0, 1]   \n",
       "3  [0, 0, 0, 0, 0]  2765  [0, 0, 0, 0, 0]   [0, 0, 0, 0, 0]  [1, 0]   \n",
       "4  [0, 0, 0, 0, 0]  3047  [0, 0, 0, 0, 0]   [0, 0, 0, 0, 0]  [1, 0]   \n",
       "\n",
       "       temporal                                               text unique_id  \n",
       "0  [0, 0, 0, 0]  Should I transfer? Other than the fact that th...    85tbvc  \n",
       "1  [0, 0, 0, 0]  Summer Financial Aid Does anyone have any reco...    exptn4  \n",
       "2  [0, 0, 2, 1]  How do you forget a girl? If you saw my last p...    a3619d  \n",
       "3  [0, 0, 0, 0]  Financing College Hi guys. With my parents sho...    acmme5  \n",
       "4  [0, 0, 0, 0]  Dealing with taking a gap year you didn't inte...    hfiq0h  "
      ]
     },
     "execution_count": 16,
     "metadata": {},
     "output_type": "execute_result"
    }
   ],
   "source": [
    "dataset = Dataset.from_file(\"data/train_set_dataset.arrow\")\n",
    "dataframe = dataset.to_pandas()\n",
    "dataframe.head()"
   ]
  },
  {
   "cell_type": "code",
   "execution_count": 17,
   "metadata": {},
   "outputs": [
    {
     "data": {
      "text/html": [
       "<div>\n",
       "<style scoped>\n",
       "    .dataframe tbody tr th:only-of-type {\n",
       "        vertical-align: middle;\n",
       "    }\n",
       "\n",
       "    .dataframe tbody tr th {\n",
       "        vertical-align: top;\n",
       "    }\n",
       "\n",
       "    .dataframe thead th {\n",
       "        text-align: right;\n",
       "    }\n",
       "</style>\n",
       "<table border=\"1\" class=\"dataframe\">\n",
       "  <thead>\n",
       "    <tr style=\"text-align: right;\">\n",
       "      <th></th>\n",
       "      <th>text</th>\n",
       "      <th>interaction</th>\n",
       "    </tr>\n",
       "  </thead>\n",
       "  <tbody>\n",
       "    <tr>\n",
       "      <th>3933</th>\n",
       "      <td>Should I stay or should I go I have a best fri...</td>\n",
       "      <td>[3, 0, 0, 0, 0]</td>\n",
       "    </tr>\n",
       "    <tr>\n",
       "      <th>3934</th>\n",
       "      <td>(f) hello! does anyone wanna chat? you can ven...</td>\n",
       "      <td>[0, 3, 0, 0, 0]</td>\n",
       "    </tr>\n",
       "    <tr>\n",
       "      <th>3935</th>\n",
       "      <td>My first New Year celebration when I will be c...</td>\n",
       "      <td>[2, 0, 1, 0, 0]</td>\n",
       "    </tr>\n",
       "    <tr>\n",
       "      <th>3936</th>\n",
       "      <td>Is a 22/18 predatory in general This is someth...</td>\n",
       "      <td>[0, 0, 0, 0, 0]</td>\n",
       "    </tr>\n",
       "    <tr>\n",
       "      <th>3937</th>\n",
       "      <td>College Decision I got waitlisted at UW Madiso...</td>\n",
       "      <td>[0, 0, 0, 0, 0]</td>\n",
       "    </tr>\n",
       "    <tr>\n",
       "      <th>3938</th>\n",
       "      <td>Freshman at Villanova Struggling to make frien...</td>\n",
       "      <td>[0, 0, 0, 0, 3]</td>\n",
       "    </tr>\n",
       "    <tr>\n",
       "      <th>3939</th>\n",
       "      <td>When applying to college, is there a big diffe...</td>\n",
       "      <td>[0, 0, 0, 0, 0]</td>\n",
       "    </tr>\n",
       "    <tr>\n",
       "      <th>3940</th>\n",
       "      <td>I just want someone to be around Have hardly s...</td>\n",
       "      <td>[0, 0, 0, 0, 3]</td>\n",
       "    </tr>\n",
       "    <tr>\n",
       "      <th>3941</th>\n",
       "      <td>Professor has not been responding to emails......</td>\n",
       "      <td>[0, 0, 0, 0, 0]</td>\n",
       "    </tr>\n",
       "    <tr>\n",
       "      <th>3942</th>\n",
       "      <td>Somewhere out there... Somewhere out there, th...</td>\n",
       "      <td>[0, 0, 0, 1, 2]</td>\n",
       "    </tr>\n",
       "  </tbody>\n",
       "</table>\n",
       "</div>"
      ],
      "text/plain": [
       "                                                   text      interaction\n",
       "3933  Should I stay or should I go I have a best fri...  [3, 0, 0, 0, 0]\n",
       "3934  (f) hello! does anyone wanna chat? you can ven...  [0, 3, 0, 0, 0]\n",
       "3935  My first New Year celebration when I will be c...  [2, 0, 1, 0, 0]\n",
       "3936  Is a 22/18 predatory in general This is someth...  [0, 0, 0, 0, 0]\n",
       "3937  College Decision I got waitlisted at UW Madiso...  [0, 0, 0, 0, 0]\n",
       "3938  Freshman at Villanova Struggling to make frien...  [0, 0, 0, 0, 3]\n",
       "3939  When applying to college, is there a big diffe...  [0, 0, 0, 0, 0]\n",
       "3940  I just want someone to be around Have hardly s...  [0, 0, 0, 0, 3]\n",
       "3941  Professor has not been responding to emails......  [0, 0, 0, 0, 0]\n",
       "3942  Somewhere out there... Somewhere out there, th...  [0, 0, 0, 1, 2]"
      ]
     },
     "execution_count": 17,
     "metadata": {},
     "output_type": "execute_result"
    }
   ],
   "source": [
    "df = dataframe[['text', 'interaction']]\n",
    "df.tail(10)\n",
    "\n",
    "# Interaction. 5-len vector summarizing human annotators' votings in the order of \n",
    "# [seeking advice, providing help, seeking validation and affirmation, reaching out, non directed interaction]"
   ]
  },
  {
   "cell_type": "code",
   "execution_count": 18,
   "metadata": {},
   "outputs": [
    {
     "data": {
      "text/html": [
       "<div>\n",
       "<style scoped>\n",
       "    .dataframe tbody tr th:only-of-type {\n",
       "        vertical-align: middle;\n",
       "    }\n",
       "\n",
       "    .dataframe tbody tr th {\n",
       "        vertical-align: top;\n",
       "    }\n",
       "\n",
       "    .dataframe thead th {\n",
       "        text-align: right;\n",
       "    }\n",
       "</style>\n",
       "<table border=\"1\" class=\"dataframe\">\n",
       "  <thead>\n",
       "    <tr style=\"text-align: right;\">\n",
       "      <th></th>\n",
       "      <th>text</th>\n",
       "      <th>seeking_advice</th>\n",
       "      <th>providing_help</th>\n",
       "      <th>seeking_validation</th>\n",
       "      <th>reaching_out</th>\n",
       "      <th>non_directed_interaction</th>\n",
       "    </tr>\n",
       "  </thead>\n",
       "  <tbody>\n",
       "    <tr>\n",
       "      <th>3938</th>\n",
       "      <td>Freshman at Villanova Struggling to make frien...</td>\n",
       "      <td>0</td>\n",
       "      <td>0</td>\n",
       "      <td>0</td>\n",
       "      <td>0</td>\n",
       "      <td>3</td>\n",
       "    </tr>\n",
       "    <tr>\n",
       "      <th>3939</th>\n",
       "      <td>When applying to college, is there a big diffe...</td>\n",
       "      <td>0</td>\n",
       "      <td>0</td>\n",
       "      <td>0</td>\n",
       "      <td>0</td>\n",
       "      <td>0</td>\n",
       "    </tr>\n",
       "    <tr>\n",
       "      <th>3940</th>\n",
       "      <td>I just want someone to be around Have hardly s...</td>\n",
       "      <td>0</td>\n",
       "      <td>0</td>\n",
       "      <td>0</td>\n",
       "      <td>0</td>\n",
       "      <td>3</td>\n",
       "    </tr>\n",
       "    <tr>\n",
       "      <th>3941</th>\n",
       "      <td>Professor has not been responding to emails......</td>\n",
       "      <td>0</td>\n",
       "      <td>0</td>\n",
       "      <td>0</td>\n",
       "      <td>0</td>\n",
       "      <td>0</td>\n",
       "    </tr>\n",
       "    <tr>\n",
       "      <th>3942</th>\n",
       "      <td>Somewhere out there... Somewhere out there, th...</td>\n",
       "      <td>0</td>\n",
       "      <td>0</td>\n",
       "      <td>0</td>\n",
       "      <td>1</td>\n",
       "      <td>2</td>\n",
       "    </tr>\n",
       "  </tbody>\n",
       "</table>\n",
       "</div>"
      ],
      "text/plain": [
       "                                                   text  seeking_advice  \\\n",
       "3938  Freshman at Villanova Struggling to make frien...               0   \n",
       "3939  When applying to college, is there a big diffe...               0   \n",
       "3940  I just want someone to be around Have hardly s...               0   \n",
       "3941  Professor has not been responding to emails......               0   \n",
       "3942  Somewhere out there... Somewhere out there, th...               0   \n",
       "\n",
       "      providing_help  seeking_validation  reaching_out  \\\n",
       "3938               0                   0             0   \n",
       "3939               0                   0             0   \n",
       "3940               0                   0             0   \n",
       "3941               0                   0             0   \n",
       "3942               0                   0             1   \n",
       "\n",
       "      non_directed_interaction  \n",
       "3938                         3  \n",
       "3939                         0  \n",
       "3940                         3  \n",
       "3941                         0  \n",
       "3942                         2  "
      ]
     },
     "execution_count": 18,
     "metadata": {},
     "output_type": "execute_result"
    }
   ],
   "source": [
    "# df['interaction'] = df['interaction'].apply(eval)\n",
    "\n",
    "extending_columns = ['seeking_advice', 'providing_help', 'seeking_validation', 'reaching_out', 'non_directed_interaction']\n",
    "\n",
    "# Split the interaction column into 5 separate columns\n",
    "df[extending_columns] = pd.DataFrame(df['interaction'].tolist(), index=df.index)\n",
    "\n",
    "\n",
    "df = df.drop('interaction', axis=1)\n",
    "df.tail()"
   ]
  },
  {
   "cell_type": "code",
   "execution_count": 19,
   "metadata": {},
   "outputs": [],
   "source": [
    "df['category'] =np.where(df[extending_columns].nunique(axis=1) == 1, \n",
    "                  'other', \n",
    "                  df[extending_columns].idxmax(axis=1))\n",
    "\n",
    "df.drop(columns=extending_columns, inplace=True)"
   ]
  },
  {
   "cell_type": "code",
   "execution_count": 20,
   "metadata": {},
   "outputs": [
    {
     "data": {
      "text/plain": [
       "category\n",
       "other                       2103\n",
       "non_directed_interaction    1243\n",
       "reaching_out                 210\n",
       "seeking_advice               200\n",
       "seeking_validation           112\n",
       "providing_help                75\n",
       "Name: count, dtype: int64"
      ]
     },
     "execution_count": 20,
     "metadata": {},
     "output_type": "execute_result"
    }
   ],
   "source": [
    "df['category'].value_counts()"
   ]
  },
  {
   "cell_type": "markdown",
   "metadata": {},
   "source": [
    "## We'll have to downsample both other and non_directed_interaction"
   ]
  },
  {
   "cell_type": "code",
   "execution_count": 21,
   "metadata": {},
   "outputs": [
    {
     "data": {
      "text/plain": [
       "category\n",
       "providing_help              100\n",
       "seeking_validation          100\n",
       "reaching_out                100\n",
       "non_directed_interaction    100\n",
       "seeking_advice              100\n",
       "other                       100\n",
       "Name: count, dtype: int64"
      ]
     },
     "execution_count": 21,
     "metadata": {},
     "output_type": "execute_result"
    }
   ],
   "source": [
    "trimmed = []\n",
    "for category in df['category'].unique():\n",
    "    selected_df = df[df['category'] == category].sample(n=100, replace=True)\n",
    "    trimmed.append(selected_df)\n",
    "\n",
    "trimmed_df = pd.concat(trimmed)\n",
    "trimmed_df = trimmed_df.sample(len(trimmed_df)) # Shuffle dataset\n",
    "trimmed_df['category'].value_counts()\n"
   ]
  },
  {
   "cell_type": "code",
   "execution_count": 22,
   "metadata": {},
   "outputs": [
    {
     "data": {
      "text/plain": [
       "337     Getting tired of being alone and lonely but ha...\n",
       "2849    Is talking to an AI Chatbot healthy? I've rece...\n",
       "2554    Gods I just want some friends. Everyday is the...\n",
       "3093    Anyone feeling lonely out there?? I’ll be your...\n",
       "2736    Loving yourself My now ex girlfriend told me I...\n",
       "Name: text, dtype: object"
      ]
     },
     "execution_count": 22,
     "metadata": {},
     "output_type": "execute_result"
    }
   ],
   "source": [
    "X_train, X_test, y_train, y_test = train_test_split(trimmed_df['text'], trimmed_df['category'], test_size=0.2, random_state=42, stratify=trimmed_df['category'])\n",
    "\n",
    "X_train.head()"
   ]
  },
  {
   "cell_type": "code",
   "execution_count": 23,
   "metadata": {},
   "outputs": [],
   "source": [
    "label_encoder = LabelEncoder()\n",
    "y_train = label_encoder.fit_transform(y_train)\n",
    "y_test = label_encoder.transform(y_test)"
   ]
  },
  {
   "cell_type": "code",
   "execution_count": 24,
   "metadata": {},
   "outputs": [
    {
     "name": "stdout",
     "output_type": "stream",
     "text": [
      "Accuracy: 0.58\n"
     ]
    }
   ],
   "source": [
    "pipeline = make_pipeline(\n",
    "    TfidfVectorizer(ngram_range=(2, 3)),\n",
    "    RandomForestClassifier(n_estimators=100, random_state=42)\n",
    ")\n",
    "\n",
    "pipeline.fit(X_train, y_train)\n",
    "\n",
    "predictions = pipeline.predict(X_test)\n",
    "\n",
    "accuracy = accuracy_score(y_test, predictions)\n",
    "print(f\"Accuracy: {accuracy:.2f}\")\n"
   ]
  },
  {
   "cell_type": "markdown",
   "metadata": {},
   "source": [
    "# Bert embeddings"
   ]
  },
  {
   "cell_type": "code",
   "execution_count": 25,
   "metadata": {},
   "outputs": [],
   "source": [
    "# Function to get BERT embeddings\n",
    "def get_bert_embeddings(texts, max_length=512):\n",
    "    # Tokenize texts\n",
    "    encoded = tokenizer(\n",
    "        texts,\n",
    "        padding=True,\n",
    "        truncation=True,\n",
    "        max_length=max_length,\n",
    "        return_tensors='pt'\n",
    "    )\n",
    "    \n",
    "    # Get BERT embeddings\n",
    "    with torch.no_grad():\n",
    "        outputs = model(**encoded)\n",
    "        embeddings = outputs.last_hidden_state[:, 0, :].numpy()\n",
    "    \n",
    "    return embeddings"
   ]
  },
  {
   "cell_type": "code",
   "execution_count": 26,
   "metadata": {},
   "outputs": [
    {
     "name": "stdout",
     "output_type": "stream",
     "text": [
      "Accuracy: 0.75\n"
     ]
    }
   ],
   "source": [
    "X_train_embeddings = get_bert_embeddings(X_train.tolist())\n",
    "X_test_embeddings = get_bert_embeddings(X_test.tolist())\n",
    "\n",
    "embeddings_pipeline = make_pipeline(\n",
    "    RandomForestClassifier(n_estimators=100, random_state=42)\n",
    ")\n",
    "\n",
    "embeddings_pipeline.fit(X_train_embeddings, y_train)\n",
    "\n",
    "predictions = embeddings_pipeline.predict(X_test_embeddings)\n",
    "\n",
    "accuracy = accuracy_score(y_test, predictions)\n",
    "print(f\"Accuracy: {accuracy:.2f}\")"
   ]
  },
  {
   "cell_type": "code",
   "execution_count": 33,
   "metadata": {},
   "outputs": [
    {
     "name": "stdout",
     "output_type": "stream",
     "text": [
      "[1]\n"
     ]
    }
   ],
   "source": [
    "test_text = \"I'm feeling really. Please help me.\"\n",
    "test_embedding = get_bert_embeddings([test_text])\n",
    "predictions = embeddings_pipeline.predict(test_embedding)\n",
    "print(predictions)\n"
   ]
  },
  {
   "cell_type": "code",
   "execution_count": 27,
   "metadata": {},
   "outputs": [
    {
     "name": "stdout",
     "output_type": "stream",
     "text": [
      "Accuracy: 0.71\n"
     ]
    }
   ],
   "source": [
    "from sklearn.linear_model import LogisticRegression\n",
    "\n",
    "embeddings_pipeline_2 = make_pipeline(\n",
    "    LogisticRegression(max_iter=1000)\n",
    ")\n",
    "\n",
    "embeddings_pipeline_2.fit(X_train_embeddings, y_train)\n",
    "\n",
    "predictions = embeddings_pipeline_2.predict(X_test_embeddings)\n",
    "\n",
    "accuracy = accuracy_score(y_test, predictions)\n",
    "print(f\"Accuracy: {accuracy:.2f}\")"
   ]
  },
  {
   "cell_type": "code",
   "execution_count": 29,
   "metadata": {},
   "outputs": [
    {
     "name": "stdout",
     "output_type": "stream",
     "text": [
      "Accuracy: 0.75\n"
     ]
    }
   ],
   "source": [
    "embeddings_pipeline = make_pipeline(\n",
    "    RandomForestClassifier(n_estimators=100, random_state=42)\n",
    ")\n",
    "\n",
    "embeddings_pipeline.fit(X_train_embeddings, y_train)\n",
    "\n",
    "predictions = embeddings_pipeline.predict(X_test_embeddings)\n",
    "\n",
    "accuracy = accuracy_score(y_test, predictions)\n",
    "print(f\"Accuracy: {accuracy:.2f}\")"
   ]
  },
  {
   "cell_type": "code",
   "execution_count": 31,
   "metadata": {},
   "outputs": [
    {
     "data": {
      "text/plain": [
       "<sklearn.metrics._plot.confusion_matrix.ConfusionMatrixDisplay at 0x331994990>"
      ]
     },
     "execution_count": 31,
     "metadata": {},
     "output_type": "execute_result"
    },
    {
     "data": {
      "image/png": "[encoded data removed]",
      "text/plain": [
       "<Figure size 640x480 with 2 Axes>"
      ]
     },
     "metadata": {},
     "output_type": "display_data"
    }
   ],
   "source": [
    "from sklearn.metrics import confusion_matrix, ConfusionMatrixDisplay\n",
    "\n",
    "confusion_matrix_ = confusion_matrix(y_test, predictions)\n",
    "ConfusionMatrixDisplay(confusion_matrix_).plot()"
   ]
  },
  {
   "cell_type": "code",
   "execution_count": 45,
   "metadata": {},
   "outputs": [],
   "source": [
    "import pickle\n",
    "\n",
    "with open('model.pkl', 'wb') as f:\n",
    "    pickle.dump([label_encoder, embeddings_pipeline], f)"
   ]
  },
  {
   "cell_type": "code",
   "execution_count": 44,
   "metadata": {},
   "outputs": [
    {
     "data": {
      "text/plain": [
       "'non_directed_interaction'"
      ]
     },
     "execution_count": 44,
     "metadata": {},
     "output_type": "execute_result"
    }
   ],
   "source": [
    "test_text = \"I'm feeling really sad. Please help me\"\n",
    "\n",
    "e = get_bert_embeddings([test_text])\n",
    "p = embeddings_pipeline.predict(e)\n",
    "\n",
    "label_encoder.inverse_transform(p)[0]"
   ]
  },
  {
   "cell_type": "code",
   "execution_count": 47,
   "metadata": {},
   "outputs": [
    {
     "data": {
      "text/plain": [
       "'non_directed_interaction'"
      ]
     },
     "execution_count": 47,
     "metadata": {},
     "output_type": "execute_result"
    }
   ],
   "source": [
    "l, m = pickle.load(open('model.pkl', 'rb'))\n",
    "e = get_bert_embeddings([test_text])\n",
    "p = m.predict(e)\n",
    "l.inverse_transform(p)[0]\n"
   ]
  },
  {
   "cell_type": "code",
   "execution_count": null,
   "metadata": {},
   "outputs": [],
   "source": []
  }
 ],
 "metadata": {
  "kernelspec": {
   "display_name": ".venv",
   "language": "python",
   "name": "python3"
  },
  "language_info": {
   "codemirror_mode": {
    "name": "ipython",
    "version": 3
   },
   "file_extension": ".py",
   "mimetype": "text/x-python",
   "name": "python",
   "nbconvert_exporter": "python",
   "pygments_lexer": "ipython3",
   "version": "3.11.10"
  }
 },
 "nbformat": 4,
 "nbformat_minor": 2
}
